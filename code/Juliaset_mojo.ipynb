{
  "nbformat": 4,
  "nbformat_minor": 0,
  "metadata": {
    "colab": {
      "provenance": []
    },
    "kernelspec": {
      "name": "python3",
      "display_name": "Python 3"
    },
    "language_info": {
      "name": "python"
    }
  },
  "cells": [
    {
      "cell_type": "markdown",
      "source": [
        "# Juliaset\n"
      ],
      "metadata": {
        "id": "pzhy-MYhEbFH"
      }
    },
    {
      "cell_type": "code",
      "source": [
        "from math import ComplexSIMD\n",
        "from python import Python\n",
        "\n",
        "@register_passable\n",
        "struct Juliaset:\n",
        "  var max_iter: Int\n",
        "  var width: Int\n",
        "  var height: Int\n",
        "  var cmplx: ComplexSIMD[DType.float64, 1]\n",
        "\n",
        "  fn __init__(max_iter:Int, width:Int, height:Int, cmplx: ComplexSIMD[DType.float64, 1]) -> Self:\n",
        "    return Self{max_iter:max_iter, width:width, height:height, cmplx:cmplx}\n",
        "\n",
        "  fn calculate(self, x:Float64, y:Float64) -> Int:\n",
        "    var z: ComplexSIMD[DType.float64, 1] = ComplexSIMD(x,y)\n",
        "\n",
        "    var n: Int = 0\n",
        "\n",
        "    while abs(z) <=2 and n < self.max_iter:\n",
        "      z = z*z + self.cmplx\n",
        "\n",
        "      n += 1\n",
        "\n",
        "    return n\n",
        "\n",
        "  fn generateImage(self) raises:\n",
        "    let X_START: Int = -2\n",
        "    let X_END: Int = 2\n",
        "\n",
        "    let Y_START: Int = -2\n",
        "    let Y_END: Int = 2\n",
        "\n",
        "    let image: PythonObject = Python.import_module(\"PIL.Image\")\n",
        "    let imageDraw: PythonObject = Python.import_module(\"PIL.ImageDraw\")\n",
        "    let im: PythonObject = image.new(\"RGB\", (self.width, self.height))\n",
        "    let draw: PythonObject = imageDraw.Draw(im)\n",
        "\n",
        "    for x in range(self.width):\n",
        "      for y in range(self.height):\n",
        "        let normalized_x: SIMD[DType.float64, 1] = x / self.width\n",
        "        let normalized_y: SIMD[DType.float64, 1] = y / self.height\n",
        "\n",
        "        let mapped_x: SIMD[DType.float64, 1] = X_START + normalized_x * (X_END - X_START)\n",
        "        let mapped_y: SIMD[DType.float64, 1] = Y_START + normalized_y * (Y_END - Y_START)\n",
        "\n",
        "        let m: Int = self.calculate(mapped_x, mapped_y)\n",
        "\n",
        "        # var color: Tuple[Int, Int, Int] = (0, 255, 0)\n",
        "\n",
        "        # if m == self.max_iter:\n",
        "        #   color = (255, 255, 255)\n",
        "        # else:\n",
        "        #   color = (255, 0, 0)\n",
        "\n",
        "        var color: Tuple[Int, Int, Int] = (0,0,0)\n",
        "\n",
        "        if m == self.max_iter:\n",
        "          color = (0,0,0)\n",
        "        else:\n",
        "          let factor = Float16(m) / Float16(self.max_iter)\n",
        "\n",
        "          let red = Float16(factor * 255)\n",
        "          let green = Float16(factor * factor * 255)\n",
        "\n",
        "          color = (red.to_int(), green.to_int(), 0)\n",
        "\n",
        "\n",
        "        _ = draw.point([x, y], color)\n",
        "\n",
        "  _ = im.save(\"juliaset.png\", 'PNG')\n",
        "\n",
        "fn main() raises:\n",
        "  let max_iter = 100\n",
        "  let height = 600\n",
        "  let width = 800\n",
        "  let creal: Float64 = -0.7\n",
        "  let cimag: Float64 = 0.27015\n",
        "\n",
        "  let complx: ComplexSIMD[DType.float64, 1] = ComplexSIMD(creal, cimag)\n",
        "\n",
        "  let juliaset = Juliaset(max_iter, width, height, complx)\n",
        "  _ = juliaset.generateImage()"
      ],
      "metadata": {
        "id": "VqsL3ObHEiM4"
      },
      "execution_count": null,
      "outputs": []
    }
  ]
}