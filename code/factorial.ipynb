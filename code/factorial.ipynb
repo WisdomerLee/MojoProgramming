{
  "nbformat": 4,
  "nbformat_minor": 0,
  "metadata": {
    "colab": {
      "provenance": []
    },
    "kernelspec": {
      "name": "python3",
      "display_name": "Python 3"
    },
    "language_info": {
      "name": "python"
    }
  },
  "cells": [
    {
      "cell_type": "code",
      "execution_count": null,
      "metadata": {
        "id": "yQdHv-45yVBF"
      },
      "outputs": [],
      "source": [
        "fn factorial(n:Int) -> Int:\n",
        "  if n < 0:\n",
        "    print(\"Factorial is not defined for negative numbers\")\n",
        "  if n == 0:\n",
        "    return 1\n",
        "  else:\n",
        "    return n * factorial(n-1)\n",
        "\n",
        "fn main():\n",
        "  let number: Int = 5\n",
        "  let result: Int = factorial(number)\n",
        "  print(result)\n"
      ]
    }
  ]
}