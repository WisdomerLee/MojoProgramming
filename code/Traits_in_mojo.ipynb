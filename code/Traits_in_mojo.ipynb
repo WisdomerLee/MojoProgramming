{
  "nbformat": 4,
  "nbformat_minor": 0,
  "metadata": {
    "colab": {
      "provenance": []
    },
    "kernelspec": {
      "name": "python3",
      "display_name": "Python 3"
    },
    "language_info": {
      "name": "python"
    }
  },
  "cells": [
    {
      "cell_type": "markdown",
      "source": [
        "# Traits\n",
        "\n",
        "mojo 6버전에서 등장한 개념\n",
        "\n",
        "이와 비슷한 것들은 java interface, C++ concept, swift protocol, rust traits\n",
        "\n"
      ],
      "metadata": {
        "id": "HKkbyJ3dTr1s"
      }
    },
    {
      "cell_type": "code",
      "source": [
        "@value\n",
        "struct Duck:\n",
        "  fn quack(self):\n",
        "    print(\"Quack\")\n",
        "\n",
        "@value\n",
        "struct StealthCow:\n",
        "  fn quack(self):\n",
        "    print(\"Moo!\")\n",
        "\n",
        "\n",
        "fn make_it_quack(definitely_a_quack: Duck):\n",
        "  definitely_a_quack.quack()\n",
        "\n",
        "fn make_it_quack(not_a_quack: StealthCow):\n",
        "  not_a_quack.quack()\n",
        "\n",
        "\n",
        "make_it_quack(Duck())\n",
        "make_it_quack(StealthCow())\n",
        "\n"
      ],
      "metadata": {
        "id": "q4_C12avTxVZ"
      },
      "execution_count": null,
      "outputs": []
    },
    {
      "cell_type": "code",
      "source": [
        "# 위와 같은 예시에서 보면 ... 여러 종류의 동물이 늘어날 때마다 매번 저렇게 작성할 수는 없는 일\n",
        "# traits를 써서 해보기 > interface와 비슷한 개념...\n",
        "# 현재 mojo의 traits는 함수의 형태만 입력하는 것이 가능함, 필드,같은 것들은 집어넣을 수 없음\n",
        "trait Quackable:\n",
        "  fn quack(self):\n",
        "    ...\n",
        "\n",
        "@value\n",
        "struct Duck(Quackable):\n",
        "  fn quack(self):\n",
        "    print(\"Quack\")\n",
        "\n",
        "@value\n",
        "struct StealthCow(Quackable):\n",
        "  fn quack(self):\n",
        "    print(\"Moo!\")\n",
        "\n",
        "let a = Duck()\n",
        "let b = StealthCow()\n",
        "\n",
        "a.quack()\n",
        "b.quack()\n"
      ],
      "metadata": {
        "id": "ldoKQDkqU0fo"
      },
      "execution_count": null,
      "outputs": []
    },
    {
      "cell_type": "code",
      "source": [
        "fn make_it_quack[T: Quackable](maybe_a_duck:T):\n",
        "  maybe_a_duck.quack()\n",
        "\n",
        "make_it_quack(Duck())\n",
        "make_it_quack(StealthCow())"
      ],
      "metadata": {
        "id": "1MqF2mAcWPMC"
      },
      "execution_count": null,
      "outputs": []
    },
    {
      "cell_type": "markdown",
      "source": [
        "## Traits의 상속"
      ],
      "metadata": {
        "id": "3zzwB6d2Wbnm"
      }
    },
    {
      "cell_type": "code",
      "source": [
        "trait Animal:\n",
        "  fn make_sound(self):\n",
        "    ...\n",
        "\n",
        "trait Bird(Animal):\n",
        "  fn fly(self):\n",
        "    ...\n",
        "\n",
        "trait Named:\n",
        "  fn get_name(self) -> String\n",
        "    ...\n",
        "\n",
        "trait Pet(Animal, Named):\n",
        "  pass\n",
        "\n",
        "# trait을 여럿 상속 받을 수도 있고,"
      ],
      "metadata": {
        "id": "AmJeFHn6WeRa"
      },
      "execution_count": null,
      "outputs": []
    },
    {
      "cell_type": "markdown",
      "source": [
        "## Traits 과 Lifecycle methods"
      ],
      "metadata": {
        "id": "Ds3UJHJbbwLt"
      }
    },
    {
      "cell_type": "code",
      "source": [
        "trait DefaultConstructable:\n",
        "  fn __init__(inout self):\n",
        "    ...\n",
        "\n",
        "trait Movable:\n",
        "  fn __moveinit__(inout self, owned existing: Self):\n",
        "    ...\n",
        "\n",
        "trait MassProduceable(DefualtConstructable, Movable):\n",
        "  pass\n",
        "\n",
        "struct Thing(MassProduceable):\n",
        "  var id: Int\n",
        "\n",
        "  fn __init__(inout self):\n",
        "    self.id = 0\n",
        "\n",
        "  fn __moveinit__(inout self, owned existing: Self):\n",
        "    self.id = existing.id\n",
        "\n",
        "fn factory[T: MassProduceable]() -> T:\n",
        "  return T()\n",
        "\n",
        "let thing = factory[Thing]"
      ],
      "metadata": {
        "id": "6NP0BF8Ib2VW"
      },
      "execution_count": null,
      "outputs": []
    },
    {
      "cell_type": "markdown",
      "source": [
        "# Mojo에서 기본으로 갖고 있는 Traits\n",
        "\n",
        "## 1. Sized\n",
        "\n",
        "length 함수를 갖고 있는 trait"
      ],
      "metadata": {
        "id": "qPVmalZzcmQt"
      }
    },
    {
      "cell_type": "code",
      "source": [
        "struct MyVector(Sized):\n",
        "  var size: Int\n",
        "\n",
        "  fn __init__(inout Self):\n",
        "    self.size = 0\n",
        "\n",
        "  fn __len__(self) -> Int:\n",
        "    return self.size\n",
        "\n",
        "print(len(MyVector()))"
      ],
      "metadata": {
        "id": "_NNJjg54clmJ"
      },
      "execution_count": null,
      "outputs": []
    },
    {
      "cell_type": "markdown",
      "source": [
        "## 2. Stringable"
      ],
      "metadata": {
        "id": "AvXvDlAGct8l"
      }
    },
    {
      "cell_type": "code",
      "source": [
        "@value\n",
        "struct Pet(Stringable):\n",
        "  var name: String\n",
        "  var type: String\n",
        "\n",
        "  fn __str__(self) -> String:\n",
        "    return \"This is a \" +self.type + \"named \" + self.name\n",
        "\n",
        "  fn __moveinit__(inout self, owned existing:Self):\n",
        "    self.name = existing.name\n",
        "    self.type = existing.type\n",
        "\n",
        "let pet = Pet1(\"Spot\", \"Dog\")\n",
        "print(pet)\n"
      ],
      "metadata": {
        "id": "jZw8IPb-fmHj"
      },
      "execution_count": null,
      "outputs": []
    },
    {
      "cell_type": "markdown",
      "source": [
        "## 3. Intable"
      ],
      "metadata": {
        "id": "-FFiHh8fcv7L"
      }
    },
    {
      "cell_type": "code",
      "source": [
        "@value\n",
        "struct Foo(Initable):\n",
        "  var i: Int\n",
        "\n",
        "  fn __int__(self) -> Int:\n",
        "    return self.i\n",
        "\n",
        "  fn __moveinit__(inout self, owned existing: Self):\n",
        "    self.i = existing.i\n",
        "\n",
        "let foo = Foo(43)\n",
        "print(int(foo) == 43)\n",
        "# 숫자형으로 변경 가능...\n",
        "# 크기 비교 시 숫자 타입으로 계산 됨\n"
      ],
      "metadata": {
        "id": "LmS_hNQOgECg"
      },
      "execution_count": null,
      "outputs": []
    }
  ]
}