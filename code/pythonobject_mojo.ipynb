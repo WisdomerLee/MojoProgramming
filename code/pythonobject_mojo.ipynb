{
  "nbformat": 4,
  "nbformat_minor": 0,
  "metadata": {
    "colab": {
      "provenance": []
    },
    "kernelspec": {
      "name": "python3",
      "display_name": "Python 3"
    },
    "language_info": {
      "name": "python"
    }
  },
  "cells": [
    {
      "cell_type": "markdown",
      "source": [
        "### Python object"
      ],
      "metadata": {
        "id": "Iv653mvb-lWZ"
      }
    },
    {
      "cell_type": "code",
      "execution_count": null,
      "metadata": {
        "id": "_mHuEj3p-Yem"
      },
      "outputs": [],
      "source": [
        "from python import Python\n",
        "\n",
        "x = Python.evaluate('5+10')\n",
        "print(x)\n"
      ]
    },
    {
      "cell_type": "code",
      "source": [
        "%%python\n",
        "x = 5+10\n",
        "print(x)"
      ],
      "metadata": {
        "id": "p900CAlv-tXW"
      },
      "execution_count": null,
      "outputs": []
    },
    {
      "cell_type": "code",
      "source": [
        "let py = Python.import_module(\"builtins\")\n",
        "py.print(\"this uses python print\")"
      ],
      "metadata": {
        "id": "Gz-blMsZ-wKC"
      },
      "execution_count": null,
      "outputs": []
    },
    {
      "cell_type": "code",
      "source": [
        "py.print(py.type(x))\n",
        "py.print(py.id(x))"
      ],
      "metadata": {
        "id": "3ySBtH3M_DfT"
      },
      "execution_count": null,
      "outputs": []
    },
    {
      "cell_type": "code",
      "source": [
        "x = 5 + 10\n",
        "print(x)"
      ],
      "metadata": {
        "id": "5hKj_LoV_X6o"
      },
      "execution_count": null,
      "outputs": []
    },
    {
      "cell_type": "markdown",
      "source": [
        "# SIMD\n",
        "Single Instruction Multiple Data\n",
        "mojo에서 병행 연산을 가능하게 하는 단일 객체\n",
        "한 종류의 연산을 여러 데이터에 병렬로 처리함\n"
      ],
      "metadata": {
        "id": "gGe6Ie7W_nUz"
      }
    },
    {
      "cell_type": "code",
      "source": [
        "y=SIMD[DType.uint8, 4](1, 2, 3, 4) # SIMD[데이터타입, 크기]\n",
        "print(y)\n",
        "# mojo에서는 8bit 숫자 벡터로 활용\n",
        "# 한 번에 모두 접근 가능\n"
      ],
      "metadata": {
        "id": "wcuKh80ABs7f"
      },
      "execution_count": null,
      "outputs": []
    },
    {
      "cell_type": "code",
      "source": [
        "y *= 10\n",
        "print(y)\n",
        "# 하나의 연산을 모든 요소에 전부 도입함\n",
        "#"
      ],
      "metadata": {
        "id": "Y2chIDYTDRad"
      },
      "execution_count": null,
      "outputs": []
    },
    {
      "cell_type": "code",
      "source": [
        "from sys import info\n",
        "print(info.simdbitwidth())"
      ],
      "metadata": {
        "id": "TqNe6RyXDmpX"
      },
      "execution_count": null,
      "outputs": []
    },
    {
      "cell_type": "code",
      "source": [
        "t = SIMD[DType.uint8, 32](1) # 32개의 요소를 모두 1로 지정\n",
        "print(t)\n",
        "\n",
        "t *=10\n",
        "print(t)"
      ],
      "metadata": {
        "id": "dFKJOMXQDtqj"
      },
      "execution_count": null,
      "outputs": []
    },
    {
      "cell_type": "code",
      "source": [
        "t = SIMD[DType.uint8, 32](1,2,3,4,5,6,7,8,9,10,11,12,13,) # 32개의 요소를 모두 1로 지정\n",
        "print(t)\n",
        "\n",
        "t *=10\n",
        "print(t)"
      ],
      "metadata": {
        "id": "875lfDW_EEtu"
      },
      "execution_count": null,
      "outputs": []
    },
    {
      "cell_type": "markdown",
      "source": [
        "# Int Data Type\n",
        "\n",
        "숫자 범위에 따라 data의 bit 수가 달라짐"
      ],
      "metadata": {
        "id": "ScY4xCl9EWCi"
      }
    },
    {
      "cell_type": "code",
      "source": [
        "var age: Int = 25\n",
        "\n",
        "let score = 100\n",
        "\n",
        "let sum = 10+5\n",
        "let diff = 20 - 12\n",
        "let product = 10*3\n",
        "print(sum)\n",
        "print(diff)\n",
        "print(product)\n",
        "\n",
        "if age > 18:\n",
        "  print(\"you are an adult\")\n",
        "else:\n",
        "  print(\"you are not an adult\")"
      ],
      "metadata": {
        "id": "GfP-zWZkEaep"
      },
      "execution_count": null,
      "outputs": []
    },
    {
      "cell_type": "markdown",
      "source": [
        "# Float Data Type"
      ],
      "metadata": {
        "id": "wb1O6jWqFKhW"
      }
    },
    {
      "cell_type": "code",
      "source": [
        "var temperature: Float16 = 25.5\n",
        "let average = (10.0+5.0)/2.0\n",
        "\n",
        "if temperature > 30.0:\n",
        "  print(\"it's hot\")\n",
        "else:\n",
        "  print(\"it's pleasant day\")"
      ],
      "metadata": {
        "id": "9KVtv1PeFOMa"
      },
      "execution_count": null,
      "outputs": []
    },
    {
      "cell_type": "markdown",
      "source": [
        "# Bool Data Type"
      ],
      "metadata": {
        "id": "1gcbyPkRF3bv"
      }
    },
    {
      "cell_type": "code",
      "source": [
        "var isLoggedIn: Bool = False\n",
        "let isAdmin: Bool = True\n",
        "\n",
        "if isLoggedIn:\n",
        "  print(\"welcome back\")\n",
        "else:\n",
        "  print(\"please log in again\")"
      ],
      "metadata": {
        "id": "-l2zv1-cGGZV"
      },
      "execution_count": null,
      "outputs": []
    },
    {
      "cell_type": "markdown",
      "source": [
        "# 1.String"
      ],
      "metadata": {
        "id": "QOcvBARCHTLx"
      }
    },
    {
      "cell_type": "code",
      "source": [
        "let s1 = String()\n",
        "let s2 = String(\"Hello\")\n",
        "let s3 = s2\n",
        "let s4 = String(42)\n",
        "let s5 = String(15.5)\n",
        "let s6 = String(False)\n",
        "\n",
        "print(s1)\n",
        "print(s2)\n",
        "print(s3)\n",
        "print(s4)\n",
        "print(s5)\n",
        "print(s6)"
      ],
      "metadata": {
        "id": "kR-AsM2MHWja"
      },
      "execution_count": null,
      "outputs": []
    },
    {
      "cell_type": "code",
      "source": [
        "let greeting = String(\"Hello Mojo\")\n",
        "print(greeting.__len__())\n",
        "let newGreeting = greeting + \"Welcome\"\n",
        "print(newGreeting)"
      ],
      "metadata": {
        "id": "KdER9aBXH_Nx"
      },
      "execution_count": null,
      "outputs": []
    },
    {
      "cell_type": "markdown",
      "source": [
        "# 2. StringLiteral"
      ],
      "metadata": {
        "id": "XzPKGQrOHWts"
      }
    },
    {
      "cell_type": "code",
      "source": [
        "let s9 = \"this is a string literal\"\n",
        "let s10 = s9 + \" this is the second string\"\n",
        "\n",
        "print(s10)"
      ],
      "metadata": {
        "id": "Gg_vuRoeHadr"
      },
      "execution_count": null,
      "outputs": []
    },
    {
      "cell_type": "markdown",
      "source": [
        "# 3. StringRef"
      ],
      "metadata": {
        "id": "8LBYZvMfHYVz"
      }
    },
    {
      "cell_type": "code",
      "source": [
        "let str1 = \"this is a string literal\"\n",
        "let str2 = str1\n",
        "let str3 = \"this is another string\"\n",
        "\n",
        "print(str1 == str2)\n",
        "print(str1 == str3)"
      ],
      "metadata": {
        "id": "kSidiB_5HZ-j"
      },
      "execution_count": null,
      "outputs": []
    },
    {
      "cell_type": "markdown",
      "source": [
        "# Slice in Strings"
      ],
      "metadata": {
        "id": "1ti-pv_nJHD0"
      }
    },
    {
      "cell_type": "code",
      "source": [
        "# start:end:step\n",
        "let str = String(\"MojoWorld\")\n",
        "print(str[0:4])\n",
        "\n",
        "let strTuple = slice(0,4)\n",
        "print(str[strTuple])\n",
        "\n",
        "print(str[0:4:2])\n",
        "let str2Tuple = slice(0,4,2)\n",
        "print(str[str2Tuple])\n"
      ],
      "metadata": {
        "id": "ABqLve5HJIyY"
      },
      "execution_count": null,
      "outputs": []
    },
    {
      "cell_type": "markdown",
      "source": [
        "# ListLiteral in mojo"
      ],
      "metadata": {
        "id": "kLA_KLDKJodJ"
      }
    },
    {
      "cell_type": "code",
      "source": [
        "let fruits: ListLiteral[StringLiteral, StringLiteral, StringLiteral] = [\"apple\", \"banana\", \"orange\"]\n",
        "print(fruits)\n",
        "\n",
        "let numbers: ListLiteral[Int, Int, Int] = [1,2,3]\n",
        "print(numbers)\n",
        "\n",
        "let list: ListLiteral[Int, FloatLiteral, StringLiteral] = [1, 3.14, \"hello\"]\n",
        "print(list)\n",
        "\n",
        "print(list.get[2,StringLiteral]())\n",
        "print(list.get[1, FloatLiteral]())\n"
      ],
      "metadata": {
        "id": "yhb6J_nPJrUE"
      },
      "execution_count": null,
      "outputs": []
    },
    {
      "cell_type": "markdown",
      "source": [
        "# Tuple in Mojo"
      ],
      "metadata": {
        "id": "o5XYAKjjKW5y"
      }
    },
    {
      "cell_type": "code",
      "source": [
        "let tup1 = (\"one\", \"two\", \"three\")\n",
        "\n",
        "let tup2 = (1,2,3)\n",
        "\n",
        "let tup3 = (1,\"Mojo\", 3.5)\n",
        "\n",
        "print(tup3.get[1, StringLiteral]())\n",
        "print(tup3.get[2, FloatLiteral]())\n",
        "\n",
        "print(tup1)"
      ],
      "metadata": {
        "id": "UzaRHxsGKYb5"
      },
      "execution_count": null,
      "outputs": []
    },
    {
      "cell_type": "markdown",
      "source": [
        "# Dynamic Vector"
      ],
      "metadata": {
        "id": "7H9Jf5YeKvAD"
      }
    },
    {
      "cell_type": "code",
      "source": [
        "from collections.vector import DynamicVector\n",
        "\n",
        "var vector1 = DynamicVector[Int]()\n",
        "\n",
        "vector1.append(2)\n",
        "vector1.append(3)\n",
        "vector1.append(4)\n",
        "\n",
        "for i in range(len(vector1)):\n",
        "  print_no_newline(vector1[i], \"\")"
      ],
      "metadata": {
        "id": "vD--2esKKxpP"
      },
      "execution_count": null,
      "outputs": []
    },
    {
      "cell_type": "code",
      "source": [
        "from collections.vector import DynamicVector\n",
        "\n",
        "var vector2 = DynamicVector[Float16]()\n",
        "\n",
        "vector2.append(2.0)\n",
        "vector2.append(3.5)\n",
        "vector2.append(4.6)\n",
        "\n",
        "for i in range(len(vector2)):\n",
        "  print_no_newline(vector2[i], \"\")"
      ],
      "metadata": {
        "id": "UT3jK1NULH1s"
      },
      "execution_count": null,
      "outputs": []
    },
    {
      "cell_type": "code",
      "source": [
        "from collections.vector import DynamicVector\n",
        "\n",
        "var vector3 = DynamicVector[String]()\n",
        "\n",
        "vector3.append(\"one\")\n",
        "vector3.append(\"two\")\n",
        "vector3.append(\"three\")\n",
        "\n",
        "for i in range(len(vector3)):\n",
        "  print_no_newline(vector3[i], \"\")\n",
        ""
      ],
      "metadata": {
        "id": "F1Sz9pkLLbwJ"
      },
      "execution_count": null,
      "outputs": []
    },
    {
      "cell_type": "code",
      "source": [
        "from collections.vector import DynamicVector\n",
        "\n",
        "var vector4 = DynamicVector[StringLiteral]()\n",
        "\n",
        "vector4.append(\"two\")\n",
        "vector4.append(\"four\")\n",
        "vector4.append(\"six\")\n",
        "\n",
        "for i in range(len(vector4)):\n",
        "  print_no_newline(vector4[i], \"\")\n",
        ""
      ],
      "metadata": {
        "id": "6PkpuWTALl3B"
      },
      "execution_count": null,
      "outputs": []
    },
    {
      "cell_type": "code",
      "source": [
        "from collections.vector import InlinedFixedVector\n",
        "\n",
        "var vector5 = InlinedFixedVector[StringLiteral](3)\n",
        "\n",
        "vector5.append(\"one\")\n",
        "vector5.append(\"two\")\n",
        "vector5.append(\"three\")\n",
        "\n",
        "for i in range(len(vector5)):\n",
        "  print_no_newline(vector5[i], \"\")\n",
        ""
      ],
      "metadata": {
        "id": "6Hw0mvRULx00"
      },
      "execution_count": null,
      "outputs": []
    },
    {
      "cell_type": "code",
      "source": [
        "from collections.vector import InlinedFixedVector\n",
        "\n",
        "var vector6 = InlinedFixedVector[Bool](3)\n",
        "\n",
        "vector6.append(True)\n",
        "vector6.append(False)\n",
        "vector6.append(True)\n",
        "\n",
        "for i in range(len(vector6)):\n",
        "  print_no_newline(vector6[i], \"\")\n",
        ""
      ],
      "metadata": {
        "id": "zgw74x7VMGZV"
      },
      "execution_count": null,
      "outputs": []
    },
    {
      "cell_type": "markdown",
      "source": [
        "# var, let, alias\n",
        "\n",
        "## 1. var"
      ],
      "metadata": {
        "id": "8MkclNr4MQk1"
      }
    },
    {
      "cell_type": "code",
      "source": [
        "var x = 1\n",
        "x = 2 # 변경 허용"
      ],
      "metadata": {
        "id": "VXlGYYPYMXyW"
      },
      "execution_count": null,
      "outputs": []
    },
    {
      "cell_type": "markdown",
      "source": [
        "## 2.let"
      ],
      "metadata": {
        "id": "MOd17lo1MbBI"
      }
    },
    {
      "cell_type": "code",
      "source": [
        "let x = 1\n",
        "x = 2 # 변경이 허용되지 않음!\n"
      ],
      "metadata": {
        "id": "r0sojho7Mcyc"
      },
      "execution_count": null,
      "outputs": []
    },
    {
      "cell_type": "markdown",
      "source": [
        "## 3. alias"
      ],
      "metadata": {
        "id": "OfzuX3ZCMhVv"
      }
    },
    {
      "cell_type": "code",
      "source": [
        "alias x = 1+2 # x = compile 될 때 값이 3으로 지정\n"
      ],
      "metadata": {
        "id": "T9vzaHrHMi9y"
      },
      "execution_count": null,
      "outputs": []
    },
    {
      "cell_type": "markdown",
      "source": [
        "# Conditional Statements"
      ],
      "metadata": {
        "id": "Phr1IcbEMrcZ"
      }
    },
    {
      "cell_type": "code",
      "source": [
        "# 프로그램에서 분기 결정할 때 필요\n",
        "let age = 18\n",
        "\n",
        "if age >= 18:\n",
        "  print(\"You are old enough to enter\")\n",
        "else:\n",
        "  print(\"Sorry, you are not old enough\")\n",
        "\n"
      ],
      "metadata": {
        "id": "TMB1jceiMur2"
      },
      "execution_count": null,
      "outputs": []
    },
    {
      "cell_type": "code",
      "source": [
        "let score = 80\n",
        "\n",
        "if score >= 90:\n",
        "  print(\"You got an A\")\n",
        "elif score >=80:\n",
        "  print(\"You got a B\")\n",
        "else:\n",
        "  print(\"You need to study harder\")\n"
      ],
      "metadata": {
        "id": "ckUtRf2ONDtj"
      },
      "execution_count": null,
      "outputs": []
    },
    {
      "cell_type": "markdown",
      "source": [
        "# for, while loop\n",
        "\n",
        "## 1. for loop"
      ],
      "metadata": {
        "id": "waFO66koNRrI"
      }
    },
    {
      "cell_type": "code",
      "source": [
        "for i in range(5):\n",
        "  pass\n",
        "  # print(i)\n",
        "\n",
        "for i in range(1, 10, 2):\n",
        "  print(i)"
      ],
      "metadata": {
        "id": "8RottpE5NThf"
      },
      "execution_count": null,
      "outputs": []
    },
    {
      "cell_type": "markdown",
      "source": [
        "## 2. while loop"
      ],
      "metadata": {
        "id": "9YCXULs7NahC"
      }
    },
    {
      "cell_type": "code",
      "source": [
        "count = 0\n",
        "while count < 5:\n",
        "  print(count)\n",
        "  count += 1\n"
      ],
      "metadata": {
        "id": "YoaZNplGNlUW"
      },
      "execution_count": null,
      "outputs": []
    },
    {
      "cell_type": "code",
      "source": [
        "num = 1\n",
        "while num <=10:\n",
        "  print(num)\n",
        "  num += 2"
      ],
      "metadata": {
        "id": "JOT434-ZNz1B"
      },
      "execution_count": null,
      "outputs": []
    },
    {
      "cell_type": "code",
      "source": [
        "x = 0\n",
        "while x < 5:\n",
        "  x += 1\n",
        "  if x == 3:\n",
        "    continue\n",
        "  print(x)"
      ],
      "metadata": {
        "id": "-2CNGFixN8HV"
      },
      "execution_count": null,
      "outputs": []
    },
    {
      "cell_type": "code",
      "source": [
        "x = 0\n",
        "while x < 5:\n",
        "  x += 1\n",
        "  if x == 4:\n",
        "    break\n",
        "  print(x)"
      ],
      "metadata": {
        "id": "dVK9q4XzOHxR"
      },
      "execution_count": null,
      "outputs": []
    }
  ]
}
