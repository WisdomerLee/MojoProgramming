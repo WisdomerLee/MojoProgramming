{
  "nbformat": 4,
  "nbformat_minor": 0,
  "metadata": {
    "colab": {
      "provenance": []
    },
    "kernelspec": {
      "name": "python3",
      "display_name": "Python 3"
    },
    "language_info": {
      "name": "python"
    }
  },
  "cells": [
    {
      "cell_type": "markdown",
      "source": [
        "# def, fn\n",
        "\n",
        "둘 중에 무엇을 선택하는 것은 사용자의 선택에 달림\n",
        "\n",
        "def 는 python의 함수 선언 방식과 완전히 동일\n",
        "\n",
        "fn은"
      ],
      "metadata": {
        "id": "iFxEufTrFEcj"
      }
    },
    {
      "cell_type": "code",
      "source": [
        "def addnumbers(a, b):\n",
        "  c = a + b\n",
        "  return c\n",
        "\n",
        "print(addnumbers(2, 3))"
      ],
      "metadata": {
        "id": "oWRrd0ZKFJv0"
      },
      "execution_count": null,
      "outputs": []
    },
    {
      "cell_type": "code",
      "source": [
        "# 함수의 입력, 출력의 형태를 지정하여 함수를 정의할 수도 있음\n",
        "def greet(name: String) -> String:\n",
        "  let greeting = \"Hello, \" + name + \"!\"\n",
        "  return greeting\n",
        "\n",
        "print(greet(\"John\"))"
      ],
      "metadata": {
        "id": "NbXuwd6jFfq6"
      },
      "execution_count": null,
      "outputs": []
    },
    {
      "cell_type": "code",
      "source": [
        "# fn은 입력, 출력의 데이터 형태를 정의하여야 함\n",
        "fn addnumbersfn(a: Int8, b: Int8) -> Int8:\n",
        "  let c: Int8 = a + b\n",
        "  return c\n",
        "\n",
        "print(addnumbersfn(5, 3))"
      ],
      "metadata": {
        "id": "KdSCfHjAFu8M"
      },
      "execution_count": null,
      "outputs": []
    },
    {
      "cell_type": "markdown",
      "source": [
        "# Struct\n",
        "\n",
        "AI 모델에서 struct는 연관된 데이터를 묶어서 함수로 하나의 unit으로 보낼 때 매우 유용하게 쓰임\n"
      ],
      "metadata": {
        "id": "mtRF58r0GQDH"
      }
    },
    {
      "cell_type": "code",
      "source": [
        "struct Animal:\n",
        "  var age: Int\n",
        "  var species: StringLiteral\n",
        "  var sound: StringLiteral\n",
        "\n",
        "  fn __init__(inout self, age: Int, species: StringLiteral, sound: StringLiteral):\n",
        "    self.age = age\n",
        "    self.species = species\n",
        "    self.sound = sound\n",
        "\n",
        "  fn printProps(self):\n",
        "    print(self.age)\n",
        "    print(self.species)\n",
        "    print(self.sound)\n",
        "\n",
        "var dog = Animal(2, \"Dog\", \"woof\")\n",
        "var cat = Animal(1, \"Cat\", \"meow\")\n",
        "\n",
        "dog.printProps()\n",
        "\n",
        "dog.age = 3\n",
        "dog.printProps()"
      ],
      "metadata": {
        "id": "Nhvetyr7Gd3H"
      },
      "execution_count": null,
      "outputs": []
    },
    {
      "cell_type": "markdown",
      "source": [
        "# Memory 관리 방식\n",
        "\n",
        "## inout, borrowed, owned\n",
        "\n"
      ],
      "metadata": {
        "id": "VB9sdyWMGTBG"
      }
    },
    {
      "cell_type": "code",
      "source": [
        "# inout 이라는 키워드가 앞에 등장하면, var로 들어오면 그 변수를 변경할 수 있고, 변경할 수 없는 변수의 경우는 변경을 시도할 경우 시도할 수 없게 됨\n",
        "\n",
        "fn add(inout a: Int, inout b: Int) -> Int:\n",
        "  a = 6\n",
        "  b = 7\n",
        "  return a + b\n",
        "\n",
        "\n",
        "fn main():\n",
        "  var a: Int = 4\n",
        "  var b: Int = 5\n",
        "  print(add(a, b))\n",
        "\n",
        "  # 아래와 같이 변경할 수 없는 변수를 놓고 함수에 적용을 시도하면 에러가 남...\n",
        "  let a: Int = 4\n",
        "  let b: Int = 5\n",
        "  print(add(a, b))\n",
        "\n",
        "main()"
      ],
      "metadata": {
        "id": "ilpPiYAJKy4U"
      },
      "execution_count": null,
      "outputs": []
    },
    {
      "cell_type": "code",
      "source": [
        "# borrowed 이라는 키워드가 앞에 등장하면, 함수 안에서 가져온 변수의 값을 변경할 수 없음\n",
        "\n",
        "fn add(borrowed a: Int, borrowed b: Int) -> Int:\n",
        "  # a = 6 < 그래서 이와같이 외부에서 들어온 변수의 값을 바꿀 수 없게 됨\n",
        "  # b = 7\n",
        "  return a + b\n",
        "\n",
        "\n",
        "fn main():\n",
        "  # borrowed에서는 inout과 반대로 변경될 수 있는 값이 들어가면 경고를 띄움\n",
        "  var a: Int = 4\n",
        "  var b: Int = 5\n",
        "  print(add(a, b))\n",
        "\n",
        "  # 아래와 같이 변경할 수 없는 변수를 놓고 함수에 적용을 시도해야 함\n",
        "  let a: Int = 4\n",
        "  let b: Int = 5\n",
        "  print(add(a, b))\n",
        "\n",
        "main()"
      ],
      "metadata": {
        "id": "7twa-0f4Lr9o"
      },
      "execution_count": null,
      "outputs": []
    },
    {
      "cell_type": "code",
      "source": [
        "# owned 이라는 키워드가 앞에 등장하면, 함수 안에서 가져온 변수를 임의로 변경할 수 있음!, 그리고 이는 변경할 수 없는 let으로 들어와도 마찬가지가 됨\n",
        "\n",
        "fn add(owned a: Int, owned b: Int) -> Int:\n",
        "  a = 6\n",
        "  b = 7\n",
        "  return a + b\n",
        "\n",
        "\n",
        "fn main():\n",
        "  # owned에서는 var로 들어오거나\n",
        "  var a: Int = 4\n",
        "  var b: Int = 5\n",
        "  print(add(a, b))\n",
        "\n",
        "  # let으로 들어와도 모두 변경할 수 있음!!!\n",
        "  let a: Int = 4\n",
        "  let b: Int = 5\n",
        "  print(add(a, b))\n",
        "\n",
        "main()"
      ],
      "metadata": {
        "id": "tY81FlCyMXBy"
      },
      "execution_count": null,
      "outputs": []
    },
    {
      "cell_type": "markdown",
      "source": [
        "# Decorator\n",
        "\n",
        "## @register_passable\n",
        "\n",
        "int, float등의 기본 데이터들은 값이 복사되어 들어가고, reference들로 들어가지 않는 편인데\n",
        "init 으로 초기화를 한 상태로, init 메소드 자체를 복사하고, 필요하지 않을 경우 메소드를 지울 필요가 있음\n",
        "\n",
        "이렇게 임시로 쓰고, 지울 메소드 들은 다른 메소드들과 조금 다르게 초기 설정이 필요\n",
        "\n",
        "또한 @register_passble을 쓰게 되면 함수를 선언할 때 inout등의 키워드를 쓸 수 없음\n"
      ],
      "metadata": {
        "id": "hqd2qGrROonI"
      }
    },
    {
      "cell_type": "code",
      "source": [
        "@register_passable\n",
        "struct Pair:\n",
        "  var a: Int\n",
        "  var b: Int\n",
        "\n",
        "  fn __init__(one: Int, two: Int) -> Self:\n",
        "    return self{a:one, b:two}\n",
        "\n",
        "  fn __copyinit__(existing) -> Self:\n",
        "    return Self{a:existing.a, b:existing.b}\n",
        "\n",
        "fn test_pair():\n",
        "  let x = Pair(5, 10)\n",
        "  var y = x\n",
        "\n",
        "  print(y.a, y.b)\n",
        "\n",
        "  y.a = 10\n",
        "  y.b = 20\n",
        "\n",
        "  print(y.a, y.b)\n",
        "\n",
        "test_pair()"
      ],
      "metadata": {
        "id": "PXwWljrsOt6m"
      },
      "execution_count": null,
      "outputs": []
    },
    {
      "cell_type": "code",
      "source": [
        "@register_passable(\"trivial\") # trivial로 선언하면, 자동으로 __init__, __copyinit__을 선언해줌\n",
        "struct Pair:\n",
        "  var a: Int\n",
        "  var b: Int\n"
      ],
      "metadata": {
        "id": "wwxc18W_TLW6"
      },
      "execution_count": null,
      "outputs": []
    },
    {
      "cell_type": "markdown",
      "source": [
        "## @unroll\n"
      ],
      "metadata": {
        "id": "L7sTvwB-Te8C"
      }
    },
    {
      "cell_type": "code",
      "source": [
        "for i in range(10):\n",
        "  print(i)\n"
      ],
      "metadata": {
        "id": "vyHCh45zTj05"
      },
      "execution_count": null,
      "outputs": []
    },
    {
      "cell_type": "code",
      "source": [
        "@unroll # 이렇게 처리하면...? unroll로 평행하게 돌리는 오브젝트를 여럿 돌린다고 함 > 병렬 처리 하는 방식\n",
        "for i in range(10):\n",
        "  print(i)"
      ],
      "metadata": {
        "id": "r1bHGDGPTs_0"
      },
      "execution_count": null,
      "outputs": []
    },
    {
      "cell_type": "code",
      "source": [
        "@unroll(2) # 이렇게 하면 두 단계씩 끊어서 최종 5번의 반복이 진행\n",
        "\n",
        "for i in range(10):\n",
        "  print(i)"
      ],
      "metadata": {
        "id": "i-iT9ORtVKVj"
      },
      "execution_count": null,
      "outputs": []
    },
    {
      "cell_type": "code",
      "source": [
        "# 위의 코드는 아래와 동일하게 동작함\n",
        "for i in range(0, 10, 2):\n",
        "  print(i)\n",
        "  print(i+1)"
      ],
      "metadata": {
        "id": "8G-8desTVfgo"
      },
      "execution_count": null,
      "outputs": []
    },
    {
      "cell_type": "markdown",
      "source": [
        "## @always_inline\n",
        "\n",
        "함수의 실행을 바로 할 수 있게 하나,\n",
        "자주 불리는 함수에 사용하면 여러 복사본이 생성되고, 오버헤드가 커지는 단점이 있음"
      ],
      "metadata": {
        "id": "_JcloVPXVqhP"
      }
    },
    {
      "cell_type": "code",
      "source": [
        "@always_inline\n",
        "fn add(a: Int, b: Int) -> Int:\n",
        "  return a + b\n",
        "\n",
        "print(add(1,2))\n",
        "\n",
        "@always_inline(\"nodebug\") # 이렇게 처리하면 always_inline과 똑같이 동작하나, 디버그용으로 띄워주는 내용들을 모두 제거하는 형태로 동작하기 때문에 빌드 시의 용량 크기를 일부 줄여주게 됨\n"
      ],
      "metadata": {
        "id": "wpZ9Ul--VtI-"
      },
      "execution_count": null,
      "outputs": []
    },
    {
      "cell_type": "markdown",
      "source": [
        "\n",
        "## @parameter"
      ],
      "metadata": {
        "id": "AxEW2TWaMqWF"
      }
    },
    {
      "cell_type": "code",
      "source": [
        "@parameter\n",
        "if True:\n",
        "  print(\"this will be included with the binary\")\n",
        "else:\n",
        "  print(\"this will be eliminated at compile time\")"
      ],
      "metadata": {
        "id": "T15OANtsMtQ8"
      },
      "execution_count": null,
      "outputs": []
    },
    {
      "cell_type": "code",
      "source": [
        "# dynamic하게 변경되는, 값을 인자로 받는 함수 등에 parameter를 적용하여 불러올 수 있도록 적용\n",
        "\n",
        "fn use_closure[func: fn(Int) capturing -> Int](num: Int) -> Int:\n",
        "  return func(num)\n",
        "\n",
        "\n",
        "fn create_closure():\n",
        "  var x = 1\n",
        "\n",
        "  @parameter\n",
        "  fn add(i: Int) -> Int:\n",
        "    return x + i\n",
        "\n",
        "  let y = use_closure[add](2)\n",
        "  print(y)\n",
        "\n",
        "create_closure()"
      ],
      "metadata": {
        "id": "JZwrj4EAM8XM"
      },
      "execution_count": null,
      "outputs": []
    },
    {
      "cell_type": "markdown",
      "source": [
        "## @capturing"
      ],
      "metadata": {
        "id": "a2_m1wJrPz_F"
      }
    },
    {
      "cell_type": "code",
      "source": [
        "fn outer(func: fn() -> None):\n",
        "  func()\n",
        "\n",
        "fn call_it():\n",
        "  @noncapturing # 이 부분이 없으면?? compile에서 에러 발생\n",
        "  fn inner():\n",
        "    print(\"hello mojo\")\n",
        "  outer(inner)\n",
        "\n",
        "call_it()"
      ],
      "metadata": {
        "id": "rvz0c9whP2Qq"
      },
      "execution_count": null,
      "outputs": []
    }
  ]
}