{
  "nbformat": 4,
  "nbformat_minor": 0,
  "metadata": {
    "colab": {
      "provenance": []
    },
    "kernelspec": {
      "name": "python3",
      "display_name": "Python 3"
    },
    "language_info": {
      "name": "python"
    }
  },
  "cells": [
    {
      "cell_type": "markdown",
      "source": [
        "# 사용하기 전의 환경\n",
        "\n",
        "```\n",
        "pip install pillow\n",
        "```\n"
      ],
      "metadata": {
        "id": "cu9j91t79OLG"
      }
    },
    {
      "cell_type": "code",
      "source": [
        "from math import ComplexSIMD\n",
        "from python import Python\n",
        "\n",
        "@register_passable\n",
        "struct Mandelbrot:\n",
        "  var max_iter: Int\n",
        "  var width: Int\n",
        "  var height: Int\n",
        "\n",
        "  fn __init__(max_iter: Int, width: Int, height: Int) -> Self:\n",
        "    return Self(max_iter:max_iter, width:width, height:height)\n",
        "\n",
        "  fn calculate(self, c: ComplexSIMD[DType.float64, 1]) -> Int:\n",
        "    var z: ComplexSIMD[DType.float64, 1] = c\n",
        "\n",
        "    for i in range(self.max_iter):\n",
        "      z = z * z + c\n",
        "      if z.squared_norm() > 4:\n",
        "        return i\n",
        "    return self.max_iter\n",
        "\n",
        "  fn generateImage(self) raises:\n",
        "    let RE_START: Int = -2\n",
        "    let RE_END: Int = 1\n",
        "    let IM_START: Int = -1\n",
        "    let IM_END: Int = 1\n",
        "\n",
        "    let image: PythonObject = Python.import_module(\"PIL.Image\")\n",
        "    let ImageDraw: PythonObject = Python.import_module(\"PIL.ImageDraw\")\n",
        "\n",
        "    let im : PythonObject = image.new('RGB', (self.width, self.height), (0,0,0))\n",
        "    let draw: PythonObject = ImageDraw.Draw(im)\n",
        "\n",
        "\n",
        "    for x in range(0, self.width):\n",
        "      for y in range(0, self.height):\n",
        "        let c: ComplexSIMD[DType.float64, 1] = ComplexSIMD(RE_START + (x / self.width) * (RE_END - RE_START), (IM_START + (y / self.height) * (IM_END - IMSTART)))\n",
        "\n",
        "        let m: Int = self.calculate(c)\n",
        "\n",
        "        # var color: Tuple[Int, Int, Int] = (0, 255, 0)\n",
        "\n",
        "        # if m == self.max_iter:\n",
        "        #   color = (255, 255, 255)\n",
        "        # else:\n",
        "        #   color = (255, 0, 0)\n",
        "\n",
        "        var color: Tuple[Int, Int, Int] = (0,0,0)\n",
        "\n",
        "        if m == self.max_iter:\n",
        "          color = (0, 0, 0)\n",
        "        else:\n",
        "          let factor = Float16(m) / Float16(self.max_iter)\n",
        "          let red = Float16(factor * 255)\n",
        "          let green = Float16(255 * factor* factor)\n",
        "\n",
        "          color = (red.to_int(), green.to_int(), 0)\n",
        "\n",
        "        _ = draw.point([x, y], (color))\n",
        "\n",
        "    _ = im.save(\"mandelbrot.png\", \"PNG\")\n",
        "\n",
        "fn main() raises:\n",
        "  let max_iter = 250\n",
        "  let height = 1920\n",
        "  let width = 1080\n",
        "\n",
        "  let mandelbrot = Mandelbrot(max_iter, height, width)\n",
        "\n",
        "  _ = mandelbrot.generateImage()"
      ],
      "metadata": {
        "id": "lLLWD9Yl9gb8"
      },
      "execution_count": null,
      "outputs": []
    }
  ]
}