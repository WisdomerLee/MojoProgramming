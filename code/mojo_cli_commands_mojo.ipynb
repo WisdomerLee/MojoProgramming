{
  "nbformat": 4,
  "nbformat_minor": 0,
  "metadata": {
    "colab": {
      "provenance": []
    },
    "kernelspec": {
      "name": "python3",
      "display_name": "Python 3"
    },
    "language_info": {
      "name": "python"
    }
  },
  "cells": [
    {
      "cell_type": "markdown",
      "source": [
        "# cli command\n",
        "\n"
      ],
      "metadata": {
        "id": "YncxZQQwTC8a"
      }
    },
    {
      "cell_type": "code",
      "source": [
        "# main.mojo\n",
        "fn main():\n",
        "  print(\"Hello from mojo\")\n",
        ""
      ],
      "metadata": {
        "id": "bVmow1Z-TNci"
      },
      "execution_count": null,
      "outputs": []
    },
    {
      "cell_type": "markdown",
      "source": [
        "cmd 창에\n",
        "```\n",
        "mojo main.mojo\n",
        "```\n",
        "를 입력하면 mojo는 main.mojo라는 파일을 mojo로 실행\n",
        "\n",
        "```\n",
        "mojo build main.mojo\n",
        "```\n",
        "이를 실행하면 mojo로 작성된 것이 binary 버전으로 빌드되어\n",
        "```\n",
        "./main\n",
        "```\n",
        "을 실행하면 더 빠르게 실행됨\n",
        "\n"
      ],
      "metadata": {
        "id": "SLKboM4GTUGY"
      }
    },
    {
      "cell_type": "code",
      "source": [
        "# 프로젝트 내부에 package folder를 만들고 __init__.mojo 빈 파일을 만들고\n",
        "# 새 module.mojo 파일을 만들기\n",
        "# 아래의 내용은 module.mojo에 들어갈 내용\n",
        "\n",
        "from python import PythonObject\n",
        "\n",
        "\n",
        "struct Name:\n",
        "  var first: String\n",
        "  var last: String\n",
        "\n",
        "  fn __init__(inout self, first: String, last: String):\n",
        "    self.first = first\n",
        "    self.last = last\n",
        "\n",
        "  fn display():\n",
        "    print(self.first, self.last)\n",
        "\n",
        ""
      ],
      "metadata": {
        "id": "uabNqp_nT1g-"
      },
      "execution_count": null,
      "outputs": []
    },
    {
      "cell_type": "code",
      "source": [
        "# main.mojo에 들어갈 내용\n",
        "# package 폴더를 만든 이름대로 (python에서 package폴더 만들고 그 파일의 클래스 넣을 때와 같다고 생각하면 됨)\n",
        "from mypackage.module import Name\n",
        "\n",
        "fn main():\n",
        "  let name = Name(\"John\", \"Doe\")\n",
        "  name.display()\n"
      ],
      "metadata": {
        "id": "ss3mR2GQUaU2"
      },
      "execution_count": null,
      "outputs": []
    },
    {
      "cell_type": "markdown",
      "source": [
        "# 커맨드\n",
        "```\n",
        "mojo package mypackage -o mypack.mojopkg\n",
        "\n",
        "```\n",
        "위의 커맨드를 실행하면\n",
        "mypack.mojopkg라는 파일이 생성\n"
      ],
      "metadata": {
        "id": "syCP9MnHVlb2"
      }
    },
    {
      "cell_type": "code",
      "source": [
        "#위의 커맨드를 실행하고 나면 main.mojo의 파일은 아래와 같이 import할 때의 package의 이름이 변\n",
        "from mypack.module import Name\n",
        "\n",
        "fn main():\n",
        "  let name = Name(\"John\", \"Doe\")\n",
        "  name.display()"
      ],
      "metadata": {
        "id": "0IwRbuMoV5F0"
      },
      "execution_count": null,
      "outputs": []
    }
  ]
}