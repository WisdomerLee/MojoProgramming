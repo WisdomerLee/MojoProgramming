{
  "nbformat": 4,
  "nbformat_minor": 0,
  "metadata": {
    "colab": {
      "provenance": []
    },
    "kernelspec": {
      "name": "python3",
      "display_name": "Python 3"
    },
    "language_info": {
      "name": "python"
    }
  },
  "cells": [
    {
      "cell_type": "code",
      "execution_count": null,
      "metadata": {
        "id": "vxb8Q2S2Py_-"
      },
      "outputs": [],
      "source": [
        "from python import Python\n",
        "\n",
        "# 에러를 처리하는 두 가지 방법 중 하나 -> 함수 뒤에 raises 키워드 추가\n",
        "fn main() raises:\n",
        "  let np = Python.import_module(\"numpy\")\n",
        "\n"
      ]
    },
    {
      "cell_type": "code",
      "source": [
        "# 에러를 처리하는 두 가지 방법 중에 하나 > 에러가 발생할 경우의 메시지를 직접 지정할 수 있음\n",
        "fn main():\n",
        "  try:\n",
        "    let np = Python.import_module(\"numpy\")\n",
        "  except ImportError:\n",
        "    print(\"error while importing\")"
      ],
      "metadata": {
        "id": "I53keRALQJCA"
      },
      "execution_count": null,
      "outputs": []
    },
    {
      "cell_type": "code",
      "source": [
        "fn main() raises:\n",
        "  with open(\"text.html\", \"r\") as file:\n",
        "    print(file.read_bytes())"
      ],
      "metadata": {
        "id": "poOOub4uRp1Y"
      },
      "execution_count": null,
      "outputs": []
    },
    {
      "cell_type": "code",
      "source": [
        "# 또 다른 에러 처리 방법\n",
        "fn main():\n",
        "  try:\n",
        "    with open(\"text.html\", \"r\") as file:\n",
        "      print(file.read_bytes())\n",
        "    raise Error(\"File not found\")\n",
        "  except:\n",
        "    print(\"error while reading file\")\n",
        "  finally:\n",
        "    # try, exception중 어느 쪽에 걸리건 무조건 실행되는 곳\n",
        "    print(\"closing the file\")"
      ],
      "metadata": {
        "id": "_PGjkb7ZR_oa"
      },
      "execution_count": null,
      "outputs": []
    },
    {
      "cell_type": "code",
      "source": [
        "fn main() raises:\n",
        "  var handler: FileHandle = open(\"test.txt\", 'r')\n",
        "  let str: String = handler.read()\n",
        "  print(str)\n",
        "  handler.close()\n",
        ""
      ],
      "metadata": {
        "id": "_27W9Q2KSd2n"
      },
      "execution_count": null,
      "outputs": []
    }
  ]
}